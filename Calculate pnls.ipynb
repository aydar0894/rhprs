{
 "cells": [
  {
   "cell_type": "code",
   "execution_count": 1,
   "metadata": {
    "collapsed": true
   },
   "outputs": [],
   "source": [
    "from flask import Flask\n",
    "from flask import request\n",
    "import numpy as np\n",
    "import pandas as pd\n",
    "from scipy.stats.stats import pearsonr # used to calculate correlation coefficient\n",
    "from pymongo import MongoClient\n",
    "import json\n",
    "from datetime import datetime, timedelta\n",
    "from pprint import pprint\n",
    "from enum import Enum\n",
    "import copy\n",
    "from collections import deque\n",
    "import time\n",
    "import csv"
   ]
  },
  {
   "cell_type": "code",
   "execution_count": 2,
   "metadata": {
    "collapsed": true
   },
   "outputs": [],
   "source": [
    "def reconstruct_currency_date(cur):\n",
    "    frmt = \"{:%Y-%m-%d}\"\n",
    "    return_frequency = 'hourly'\n",
    "    if return_frequency == 'hourly':\n",
    "        frmt = \"{:%Y-%m-%d %H:%M:%S}\"\n",
    "    for cur_value, index in zip(cur['history'], range(len(cur['history']))):\n",
    "        #  cur['history'][index]['date'] = datetime.fromtimestamp(cur_value['time'])\n",
    "        cur['history'][index]['date'] = frmt.format(datetime.fromtimestamp(cur_value['time']))\n",
    "    return cur"
   ]
  },
  {
   "cell_type": "code",
   "execution_count": 9,
   "metadata": {},
   "outputs": [
    {
     "name": "stdout",
     "output_type": "stream",
     "text": [
      "(-0.0530165495705125, 0.09397897132024564)\n"
     ]
    }
   ],
   "source": [
    "client = MongoClient('localhost',\n",
    "                    authSource='bitcoin')\n",
    "db = client.bitcoin\n",
    "daily_data = db.daily_data\n",
    "\n",
    "data1 = reconstruct_currency_date(daily_data.find_one({'Ccy': 'BTC'}))\n",
    "\n",
    "df_data1 = pd.DataFrame(data1['history'][:1000])\n",
    "# pprint(df_data1)\n",
    "\n",
    "df_data1 = df_data1.set_index(['date'])         # index: string\n",
    "df_data1.index = pd.to_datetime(df_data1.index)\n",
    "\n",
    "\n",
    "btc = df_data1.pct_change()\n",
    "a = btc['close'].values[1:2000]\n",
    "\n",
    "data2 = reconstruct_currency_date(daily_data.find_one({'Ccy': 'ETH'}))\n",
    "\n",
    "df_data2 = pd.DataFrame(data2['history'][:1000])\n",
    "\n",
    "df_data2 = df_data2.set_index(['date'])         # index: string\n",
    "df_data2.index = pd.to_datetime(df_data2.index)\n",
    "\n",
    "eth = df_data2.pct_change()\n",
    "b = eth['close'].values[1:2000]\n",
    "\n",
    "correlation = pearsonr(a, b)\n",
    "\n",
    "pprint(correlation)\n",
    "# pprint(b)"
   ]
  },
  {
   "cell_type": "code",
   "execution_count": null,
   "metadata": {
    "collapsed": true
   },
   "outputs": [],
   "source": []
  }
 ],
 "metadata": {
  "kernelspec": {
   "display_name": "Python 3",
   "language": "python",
   "name": "python3"
  },
  "language_info": {
   "codemirror_mode": {
    "name": "ipython",
    "version": 3
   },
   "file_extension": ".py",
   "mimetype": "text/x-python",
   "name": "python",
   "nbconvert_exporter": "python",
   "pygments_lexer": "ipython3",
   "version": "3.6.1"
  }
 },
 "nbformat": 4,
 "nbformat_minor": 2
}
